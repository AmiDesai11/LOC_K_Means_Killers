{
 "cells": [
  {
   "cell_type": "code",
   "execution_count": 1,
   "id": "9fdffa1c",
   "metadata": {},
   "outputs": [],
   "source": [
    "import pandas as pd\n",
    "\n",
    "# Replace 'your_file.xlsx' with the path to your Excel file\n",
    "file_path = 'Category_Mapping.xlsx'\n",
    "\n",
    "# Read the Excel file\n",
    "df_1 = pd.read_excel(file_path, sheet_name='Sheet1')\n",
    "df_2 = pd.read_excel(file_path, sheet_name='Sheet2')\n",
    "\n",
    "df_2.set_index('Ticker', inplace=True)\n",
    "\n",
    "# Mapping function\n",
    "def map_sector(ticker):\n",
    "    if ticker in df_2.index:\n",
    "        if pd.isnull(df_1.loc[df_1['Ticker'] == ticker, 'Sector'].iloc[0]):\n",
    "            return df_2.loc[ticker, 'Sector']\n",
    "        else:\n",
    "            return df_1.loc[df_1['Ticker'] == ticker, 'Sector'].iloc[0]\n",
    "    else:\n",
    "        return None\n",
    "\n",
    "def map_industry(ticker):\n",
    "    if ticker in df_2.index:\n",
    "        if pd.isnull(df_1.loc[df_1['Ticker'] == ticker, 'Sector'].iloc[0]):\n",
    "            return df_2.loc[ticker, 'Industry']\n",
    "        else:\n",
    "            return df_1.loc[df_1['Ticker'] == ticker, 'Sector'].iloc[0]\n",
    "    else:\n",
    "        return None\n",
    "\n",
    "# Apply mapping functions\n",
    "df_1['Sector'] = df_1['Ticker'].map(map_sector)\n",
    "df_1['Industry'] = df_1['Ticker'].map(map_industry)\n",
    "\n",
    "# Save the DataFrame\n",
    "df_1.to_csv(\"Categories_Mapping.csv\", index=False)"
   ]
  }
 ],
 "metadata": {
  "kernelspec": {
   "display_name": "Python 3 (ipykernel)",
   "language": "python",
   "name": "python3"
  },
  "language_info": {
   "codemirror_mode": {
    "name": "ipython",
    "version": 3
   },
   "file_extension": ".py",
   "mimetype": "text/x-python",
   "name": "python",
   "nbconvert_exporter": "python",
   "pygments_lexer": "ipython3",
   "version": "3.9.16"
  }
 },
 "nbformat": 4,
 "nbformat_minor": 5
}
