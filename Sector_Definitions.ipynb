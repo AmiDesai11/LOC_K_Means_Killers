{
 "cells": [
  {
   "cell_type": "code",
   "execution_count": 1,
   "id": "f607eb38",
   "metadata": {},
   "outputs": [
    {
     "name": "stdout",
     "output_type": "stream",
     "text": [
      "Table 1 on page 2 extracted and saved as C:\\Users\\DELL\\Desktop\\Projects\\LOC 6.0\\Sector Definitions\\page_2_table_1.csv\n",
      "Table 1 on page 3 extracted and saved as C:\\Users\\DELL\\Desktop\\Projects\\LOC 6.0\\Sector Definitions\\page_3_table_1.csv\n",
      "Table 1 on page 4 extracted and saved as C:\\Users\\DELL\\Desktop\\Projects\\LOC 6.0\\Sector Definitions\\page_4_table_1.csv\n",
      "Table 1 on page 5 extracted and saved as C:\\Users\\DELL\\Desktop\\Projects\\LOC 6.0\\Sector Definitions\\page_5_table_1.csv\n",
      "Table 1 on page 6 extracted and saved as C:\\Users\\DELL\\Desktop\\Projects\\LOC 6.0\\Sector Definitions\\page_6_table_1.csv\n",
      "Table 1 on page 7 extracted and saved as C:\\Users\\DELL\\Desktop\\Projects\\LOC 6.0\\Sector Definitions\\page_7_table_1.csv\n",
      "Table 1 on page 8 extracted and saved as C:\\Users\\DELL\\Desktop\\Projects\\LOC 6.0\\Sector Definitions\\page_8_table_1.csv\n",
      "Table 1 on page 9 extracted and saved as C:\\Users\\DELL\\Desktop\\Projects\\LOC 6.0\\Sector Definitions\\page_9_table_1.csv\n",
      "Table 1 on page 10 extracted and saved as C:\\Users\\DELL\\Desktop\\Projects\\LOC 6.0\\Sector Definitions\\page_10_table_1.csv\n",
      "Table 1 on page 11 extracted and saved as C:\\Users\\DELL\\Desktop\\Projects\\LOC 6.0\\Sector Definitions\\page_11_table_1.csv\n",
      "Table 1 on page 12 extracted and saved as C:\\Users\\DELL\\Desktop\\Projects\\LOC 6.0\\Sector Definitions\\page_12_table_1.csv\n",
      "Table 1 on page 13 extracted and saved as C:\\Users\\DELL\\Desktop\\Projects\\LOC 6.0\\Sector Definitions\\page_13_table_1.csv\n",
      "Table 1 on page 14 extracted and saved as C:\\Users\\DELL\\Desktop\\Projects\\LOC 6.0\\Sector Definitions\\page_14_table_1.csv\n",
      "Table 1 on page 15 extracted and saved as C:\\Users\\DELL\\Desktop\\Projects\\LOC 6.0\\Sector Definitions\\page_15_table_1.csv\n",
      "Table 1 on page 16 extracted and saved as C:\\Users\\DELL\\Desktop\\Projects\\LOC 6.0\\Sector Definitions\\page_16_table_1.csv\n",
      "Table 1 on page 17 extracted and saved as C:\\Users\\DELL\\Desktop\\Projects\\LOC 6.0\\Sector Definitions\\page_17_table_1.csv\n",
      "Table 1 on page 18 extracted and saved as C:\\Users\\DELL\\Desktop\\Projects\\LOC 6.0\\Sector Definitions\\page_18_table_1.csv\n",
      "Table 1 on page 19 extracted and saved as C:\\Users\\DELL\\Desktop\\Projects\\LOC 6.0\\Sector Definitions\\page_19_table_1.csv\n",
      "Table 1 on page 20 extracted and saved as C:\\Users\\DELL\\Desktop\\Projects\\LOC 6.0\\Sector Definitions\\page_20_table_1.csv\n",
      "Table 1 on page 21 extracted and saved as C:\\Users\\DELL\\Desktop\\Projects\\LOC 6.0\\Sector Definitions\\page_21_table_1.csv\n",
      "All tables combined and saved as C:\\Users\\DELL\\Desktop\\Projects\\LOC 6.0\\Sector_Definitions.csv\n"
     ]
    }
   ],
   "source": [
    "import pdfplumber\n",
    "import pandas as pd\n",
    "import os\n",
    "\n",
    "# Path to the PDF file\n",
    "pdf_path = r\"C:\\Users\\DELL\\Desktop\\Projects\\LOC 6.0\\Sector Definitions.pdf\"\n",
    "output_folder = \"C:\\\\Users\\\\DELL\\\\Desktop\\\\Projects\\\\LOC 6.0\\\\Sector Definitions\"\n",
    "\n",
    "# Create output folder if it doesn't exist\n",
    "if not os.path.exists(output_folder):\n",
    "    os.makedirs(output_folder)\n",
    "\n",
    "# Open the PDF file\n",
    "with pdfplumber.open(pdf_path) as pdf:\n",
    "    # Iterate through each page\n",
    "    for i, page in enumerate(pdf.pages):\n",
    "        # Extract tables from the page\n",
    "        tables = page.extract_tables()\n",
    "       \n",
    "        # Iterate through each extracted table\n",
    "        for j, table in enumerate(tables):\n",
    "            # Convert the table to a DataFrame\n",
    "            df = pd.DataFrame(table[1:], columns=table[0])\n",
    "           \n",
    "            # Generate CSV file name\n",
    "            csv_file_name = os.path.join(output_folder, f\"page_{i+1}_table_{j+1}.csv\")\n",
    "           \n",
    "            # Save the DataFrame as a CSV file\n",
    "            df.to_csv(csv_file_name, index=False)\n",
    "           \n",
    "            print(f\"Table {j+1} on page {i+1} extracted and saved as {csv_file_name}\")\n",
    "\n",
    "# Read all CSV files and concatenate them into one DataFrame\n",
    "dfs = []\n",
    "for file in os.listdir(output_folder):\n",
    "    if file.endswith(\".csv\"):\n",
    "        file_path = os.path.join(output_folder, file)\n",
    "        df = pd.read_csv(file_path)\n",
    "        dfs.append(df)\n",
    "\n",
    "# Concatenate all DataFrames\n",
    "combined_df = pd.concat(dfs, ignore_index=True)\n",
    "\n",
    "# Save the combined DataFrame to a CSV file\n",
    "combined_csv_path = r\"C:\\Users\\DELL\\Desktop\\Projects\\LOC 6.0\\Sector_Definitions.csv\"\n",
    "combined_df.to_csv(combined_csv_path, index=False)\n",
    "\n",
    "print(f\"All tables combined and saved as {combined_csv_path}\")"
   ]
  },
  {
   "cell_type": "code",
   "execution_count": 2,
   "id": "bb6b69e6",
   "metadata": {},
   "outputs": [],
   "source": [
    "# Read the CSV file into DataFrame\n",
    "sector_definitions = pd.read_csv(r\"C:\\Users\\DELL\\Desktop\\Projects\\LOC 6.0\\Sector_Definitions.csv\")\n",
    "\n",
    "# Forward fill all columns\n",
    "sector_definitions_ffilled = sector_definitions.fillna(method='ffill')\n",
    "\n",
    "# Save the DataFrame again\n",
    "output_path = r\"C:\\Users\\DELL\\Desktop\\Projects\\LOC 6.0\\Sector_Definitions.csv\"\n",
    "sector_definitions_ffilled.to_csv(output_path, index=False)"
   ]
  }
 ],
 "metadata": {
  "kernelspec": {
   "display_name": "Python 3 (ipykernel)",
   "language": "python",
   "name": "python3"
  },
  "language_info": {
   "codemirror_mode": {
    "name": "ipython",
    "version": 3
   },
   "file_extension": ".py",
   "mimetype": "text/x-python",
   "name": "python",
   "nbconvert_exporter": "python",
   "pygments_lexer": "ipython3",
   "version": "3.9.16"
  }
 },
 "nbformat": 4,
 "nbformat_minor": 5
}
