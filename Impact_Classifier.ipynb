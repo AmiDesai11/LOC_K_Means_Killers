{
 "cells": [
  {
   "cell_type": "code",
   "execution_count": 1,
   "id": "e0cf6c33",
   "metadata": {},
   "outputs": [],
   "source": [
    "import pandas as pd\n",
    "df = pd.read_excel(r\"C:\\Users\\DELL\\Desktop\\Projects\\LOC 6.0\\Final News DataFrame\\Final News DataFrame.xlsx\")\n",
    "price_df = pd.read_csv(r\"C:\\Users\\DELL\\Desktop\\Projects\\LOC 6.0\\NSE_CM_bhavcopy_07032024.csv\")\n",
    "\n",
    "price_df.drop_duplicates(subset=['TckrSymb'], inplace=True)\n",
    "price_df[\"Per_Diff\"] = ((price_df[\"ClsPric\"] - price_df[\"PrvsClsgPric\"]) / price_df[\"PrvsClsgPric\"]) * 100\n",
    "\n",
    "sentiment_counts = df.groupby(['Ticker', 'Sentiment']).size().unstack(fill_value=0)\n",
    "\n",
    "# Get the maximum sentiment count for each Ticker\n",
    "max_sentiment = sentiment_counts.idxmax(axis=1)\n",
    "\n",
    "# Merge max_sentiment with the original DataFrame on Ticker\n",
    "result = pd.merge(df, max_sentiment.rename('Highest Sentiment'), on='Ticker')\n",
    "result = result[[\"Ticker\", \"Highest Sentiment\"]]\n",
    "result.drop_duplicates(inplace=True)\n",
    "result[\"Percentage Difference in Closing Price\"] = result[\"Ticker\"].map(price_df.set_index(\"TckrSymb\")[\"Per_Diff\"])\n",
    "\n",
    "result.to_csv(r\"C:\\Users\\DELL\\Desktop\\Projects\\LOC 6.0\\Impact.csv\", index=False)"
   ]
  }
 ],
 "metadata": {
  "kernelspec": {
   "display_name": "Python 3 (ipykernel)",
   "language": "python",
   "name": "python3"
  },
  "language_info": {
   "codemirror_mode": {
    "name": "ipython",
    "version": 3
   },
   "file_extension": ".py",
   "mimetype": "text/x-python",
   "name": "python",
   "nbconvert_exporter": "python",
   "pygments_lexer": "ipython3",
   "version": "3.9.16"
  }
 },
 "nbformat": 4,
 "nbformat_minor": 5
}
